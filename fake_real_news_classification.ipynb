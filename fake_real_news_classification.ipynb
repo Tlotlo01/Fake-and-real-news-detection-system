{
  "nbformat": 4,
  "nbformat_minor": 0,
  "metadata": {
    "colab": {
      "provenance": [],
      "authorship_tag": "ABX9TyMH1fxSCkswC6VABEu63QL7",
      "include_colab_link": true
    },
    "kernelspec": {
      "name": "python3",
      "display_name": "Python 3"
    },
    "language_info": {
      "name": "python"
    }
  },
  "cells": [
    {
      "cell_type": "markdown",
      "metadata": {
        "id": "view-in-github",
        "colab_type": "text"
      },
      "source": [
        "<a href=\"https://colab.research.google.com/github/Tlotlo01/Fake-and-real-news-detection-system/blob/main/fake_real_news_classification.ipynb\" target=\"_parent\"><img src=\"https://colab.research.google.com/assets/colab-badge.svg\" alt=\"Open In Colab\"/></a>"
      ]
    },
    {
      "cell_type": "markdown",
      "source": [
        "# **Version 1**"
      ],
      "metadata": {
        "id": "GIZ_4LEmWOoX"
      }
    },
    {
      "cell_type": "code",
      "source": [
        "# Step 1: Import Required Libraries\n",
        "import pandas as pd\n",
        "from sklearn.model_selection import train_test_split\n",
        "from sklearn.feature_extraction.text import TfidfVectorizer\n",
        "from sklearn.linear_model import LogisticRegression\n",
        "from sklearn.metrics import classification_report\n",
        "\n",
        "# Step 2: Load the Dataset\n",
        "df = pd.read_csv('https://raw.githubusercontent.com/GeorgeMcIntire/fake_real_news_dataset/refs/heads/main/fake_and_real_news_dataset.csv')\n",
        "\n",
        "# Step 3: Explore the Data\n",
        "print(\"First 5 rows:\\n\", df.head())\n",
        "print(\"\\nColumn Names:\", df.columns)\n",
        "\n",
        "# Step 4: Define Features and Labels\n",
        "X = df['text']  # You could also combine 'title' + 'text'\n",
        "y = df['label']  # 'FAKE' or 'REAL'\n",
        "\n",
        "# Step 5: Split the Dataset\n",
        "X_train, X_test, y_train, y_test = train_test_split(X, y, test_size=0.2, random_state=42)\n",
        "\n",
        "# Step 6: Text Vectorization (TF-IDF)\n",
        "vectorizer = TfidfVectorizer(stop_words='english', max_df=0.7)\n",
        "X_train_vec = vectorizer.fit_transform(X_train)\n",
        "X_test_vec = vectorizer.transform(X_test)\n",
        "\n",
        "# Step 7: Train the Classifier\n",
        "model = LogisticRegression()\n",
        "model.fit(X_train_vec, y_train)\n",
        "\n",
        "# Step 8: Evaluate the Model\n",
        "y_pred = model.predict(X_test_vec)\n",
        "print(\"\\n📊 Classification Report:\\n\")\n",
        "print(classification_report(y_test, y_pred))\n",
        "\n",
        "# Step 9: Try a Custom Prediction\n",
        "def predict_news(news_text):\n",
        "    news_vec = vectorizer.transform([news_text])\n",
        "    prediction = model.predict(news_vec)[0]\n",
        "    return f\"🧠 Prediction: This news is likely **{prediction.upper()}**.\"\n",
        "\n",
        "# Example:\n",
        "sample_text = \"Girls about to get wasted tonight.\"\n",
        "print(\"\\n\", predict_news(sample_text))\n"
      ],
      "metadata": {
        "colab": {
          "base_uri": "https://localhost:8080/"
        },
        "id": "lU656tAooQZr",
        "outputId": "82c3e475-276f-4d89-8c7a-6b89a54c9248"
      },
      "execution_count": null,
      "outputs": [
        {
          "output_type": "stream",
          "name": "stdout",
          "text": [
            "First 5 rows:\n",
            "           idd                                              title  \\\n",
            "0  Fq+C96tcx+  ‘A target on Roe v. Wade ’: Oklahoma bill maki...   \n",
            "1  bHUqK!pgmv  Study: women had to drive 4 times farther afte...   \n",
            "2  4Y4Ubf%aTi        Trump, Clinton clash in dueling DC speeches   \n",
            "3  _CoY89SJ@K  Grand jury in Texas indicts activists behind P...   \n",
            "4  +rJHoRQVLe  As Reproductive Rights Hang In The Balance, De...   \n",
            "\n",
            "                                                text label  \n",
            "0  UPDATE: Gov. Fallin vetoed the bill on Friday....  REAL  \n",
            "1  Ever since Texas laws closed about half of the...  REAL  \n",
            "2  Donald Trump and Hillary Clinton, now at the s...  REAL  \n",
            "3  A Houston grand jury investigating criminal al...  REAL  \n",
            "4  WASHINGTON -- Forty-three years after the Supr...  REAL  \n",
            "\n",
            "Column Names: Index(['idd', 'title', 'text', 'label'], dtype='object')\n",
            "\n",
            "📊 Classification Report:\n",
            "\n",
            "              precision    recall  f1-score   support\n",
            "\n",
            "        FAKE       0.87      0.95      0.91       450\n",
            "        REAL       0.95      0.87      0.91       469\n",
            "\n",
            "    accuracy                           0.91       919\n",
            "   macro avg       0.91      0.91      0.91       919\n",
            "weighted avg       0.91      0.91      0.91       919\n",
            "\n",
            "\n",
            " 🧠 Prediction: This news is likely **FAKE**.\n"
          ]
        }
      ]
    },
    {
      "cell_type": "markdown",
      "source": [
        "# **Version 2**"
      ],
      "metadata": {
        "id": "dR_X2cfjLIsI"
      }
    },
    {
      "cell_type": "code",
      "source": [
        "# Install necessary libraries\n",
        "!pip install gradio joblib --quiet\n"
      ],
      "metadata": {
        "id": "Oko3SZg-u4pE"
      },
      "execution_count": null,
      "outputs": []
    },
    {
      "cell_type": "code",
      "source": [
        "# Step 1: Import Libraries\n",
        "import pandas as pd\n",
        "from sklearn.model_selection import train_test_split\n",
        "from sklearn.ensemble import RandomForestClassifier\n",
        "from sklearn.feature_extraction.text import TfidfVectorizer\n",
        "from sklearn.metrics import classification_report\n",
        "import joblib\n",
        "import gradio as gr\n"
      ],
      "metadata": {
        "id": "9ZoEtMWOvCyx"
      },
      "execution_count": null,
      "outputs": []
    },
    {
      "cell_type": "markdown",
      "source": [
        "## **Load the data**"
      ],
      "metadata": {
        "id": "pYCCHbM0zWFz"
      }
    },
    {
      "cell_type": "code",
      "source": [
        "df = pd.read_csv('https://raw.githubusercontent.com/GeorgeMcIntire/fake_real_news_dataset/refs/heads/main/fake_and_real_news_dataset.csv')\n",
        "\n",
        "X = df['text']\n",
        "y = df['label']\n"
      ],
      "metadata": {
        "id": "82OXadravU28"
      },
      "execution_count": null,
      "outputs": []
    },
    {
      "cell_type": "markdown",
      "source": [
        "## **Split the data**"
      ],
      "metadata": {
        "id": "24bePbeJzGjk"
      }
    },
    {
      "cell_type": "code",
      "source": [
        "X_train, X_test, y_train, y_test = train_test_split(X, y, test_size=0.2, random_state=42)\n"
      ],
      "metadata": {
        "id": "XtZKNS5OvrMV"
      },
      "execution_count": null,
      "outputs": []
    },
    {
      "cell_type": "markdown",
      "source": [
        "## **Text Vectorization**"
      ],
      "metadata": {
        "id": "6vUdpDJsyz6v"
      }
    },
    {
      "cell_type": "code",
      "source": [
        "vectorizer = TfidfVectorizer(stop_words='english', max_df=0.7)\n",
        "X_train_vec = vectorizer.fit_transform(X_train)\n",
        "X_test_vec = vectorizer.transform(X_test)\n"
      ],
      "metadata": {
        "id": "8CFlKSn0v00o"
      },
      "execution_count": null,
      "outputs": []
    },
    {
      "cell_type": "code",
      "source": [
        "model = RandomForestClassifier(n_estimators=100, random_state=42)\n",
        "model.fit(X_train_vec, y_train)\n",
        "\n",
        "# Save for future use\n",
        "joblib.dump(model, 'model.pkl')\n",
        "joblib.dump(vectorizer, 'vectorizer.pkl')\n"
      ],
      "metadata": {
        "colab": {
          "base_uri": "https://localhost:8080/"
        },
        "id": "o6Qdtobmv73R",
        "outputId": "3bb2596e-9701-40f5-86de-8237468f2479"
      },
      "execution_count": null,
      "outputs": [
        {
          "output_type": "execute_result",
          "data": {
            "text/plain": [
              "['vectorizer.pkl']"
            ]
          },
          "metadata": {},
          "execution_count": 33
        }
      ]
    },
    {
      "cell_type": "markdown",
      "source": [
        "# **Evaluate the model**"
      ],
      "metadata": {
        "id": "bJW_XmNLylcp"
      }
    },
    {
      "cell_type": "code",
      "source": [
        "y_pred = model.predict(X_test_vec)\n",
        "print(classification_report(y_test, y_pred))\n"
      ],
      "metadata": {
        "colab": {
          "base_uri": "https://localhost:8080/"
        },
        "id": "hSpntzyAwMO1",
        "outputId": "ce047a37-801e-48d4-d8ef-efe446112f48"
      },
      "execution_count": null,
      "outputs": [
        {
          "output_type": "stream",
          "name": "stdout",
          "text": [
            "              precision    recall  f1-score   support\n",
            "\n",
            "        FAKE       0.89      0.91      0.90       450\n",
            "        REAL       0.91      0.89      0.90       469\n",
            "\n",
            "    accuracy                           0.90       919\n",
            "   macro avg       0.90      0.90      0.90       919\n",
            "weighted avg       0.90      0.90      0.90       919\n",
            "\n"
          ]
        }
      ]
    },
    {
      "cell_type": "code",
      "source": [
        "\n",
        "def predict_news(text):\n",
        "    vect = vectorizer.transform([text])\n",
        "    prediction = model.predict(vect)[0]\n",
        "    return f\"This news is likely **{prediction.upper()}**.\"\n",
        "\n",
        "interface = gr.Interface(\n",
        "    fn=predict_news,\n",
        "    inputs=gr.Textbox(label=\"Enter news article\"),\n",
        "    outputs=gr.Textbox(label=\"Prediction\"),\n",
        "    title=\"📰 Fake News Detection\",\n",
        "    description=\"Enter a news article to check if it's FAKE or REAL.\"\n",
        ")\n",
        "\n",
        "interface.launch(share=True)\n"
      ],
      "metadata": {
        "colab": {
          "base_uri": "https://localhost:8080/",
          "height": 614
        },
        "id": "lonBV-tBwYFH",
        "outputId": "5e137a04-6c7c-4601-d8f6-91a40814aa34"
      },
      "execution_count": null,
      "outputs": [
        {
          "output_type": "stream",
          "name": "stdout",
          "text": [
            "Colab notebook detected. To show errors in colab notebook, set debug=True in launch()\n",
            "* Running on public URL: https://77432788d18e7c49ab.gradio.live\n",
            "\n",
            "This share link expires in 1 week. For free permanent hosting and GPU upgrades, run `gradio deploy` from the terminal in the working directory to deploy to Hugging Face Spaces (https://huggingface.co/spaces)\n"
          ]
        },
        {
          "output_type": "display_data",
          "data": {
            "text/plain": [
              "<IPython.core.display.HTML object>"
            ],
            "text/html": [
              "<div><iframe src=\"https://77432788d18e7c49ab.gradio.live\" width=\"100%\" height=\"500\" allow=\"autoplay; camera; microphone; clipboard-read; clipboard-write;\" frameborder=\"0\" allowfullscreen></iframe></div>"
            ]
          },
          "metadata": {}
        },
        {
          "output_type": "execute_result",
          "data": {
            "text/plain": []
          },
          "metadata": {},
          "execution_count": 35
        }
      ]
    }
  ]
}